{
 "cells": [
  {
   "cell_type": "code",
   "execution_count": 1,
   "metadata": {},
   "outputs": [
    {
     "name": "stderr",
     "output_type": "stream",
     "text": [
      "Python 3.6.4 :: Anaconda, Inc.\n"
     ]
    }
   ],
   "source": [
    "!python --version"
   ]
  },
  {
   "cell_type": "markdown",
   "metadata": {},
   "source": [
    "Reference: http://lightkurve.keplerscience.org/tutorials/quickstart.html"
   ]
  },
  {
   "cell_type": "code",
   "execution_count": 2,
   "metadata": {},
   "outputs": [],
   "source": [
    "from lightkurve import KeplerTargetPixelFile"
   ]
  },
  {
   "cell_type": "code",
   "execution_count": 3,
   "metadata": {},
   "outputs": [
    {
     "name": "stdout",
     "output_type": "stream",
     "text": [
      "Found 1 File(s)\n",
      "Downloading URL https://mast.stsci.edu/api/v0/download/file?uri=mast:Kepler/url/missions/kepler/target_pixel_files/0084/008462852/kplr008462852-2013098041711_lpd-targ.fits.gz to ./mastDownload/Kepler/kplr008462852_lc_Q111111111111111111/kplr008462852-2013098041711_lpd-targ.fits.gz ... [Done]\n"
     ]
    }
   ],
   "source": [
    "tpf = KeplerTargetPixelFile.from_archive(8462852, quarter=16,\n",
    "                                         quality_bitmask='hardest');"
   ]
  },
  {
   "cell_type": "code",
   "execution_count": 4,
   "metadata": {},
   "outputs": [
    {
     "data": {
      "image/png": "[encoded data removed]",
      "text/plain": [
       "<matplotlib.figure.Figure at 0xd2b994cf28>"
      ]
     },
     "metadata": {},
     "output_type": "display_data"
    }
   ],
   "source": [
    "%matplotlib inline\n",
    "tpf.plot(frame=1);"
   ]
  },
  {
   "cell_type": "code",
   "execution_count": 5,
   "metadata": {},
   "outputs": [],
   "source": [
    "lc = tpf.to_lightcurve(aperture_mask='all');\n",
    "\n"
   ]
  },
  {
   "cell_type": "code",
   "execution_count": 6,
   "metadata": {},
   "outputs": [
    {
     "data": {
      "text/plain": [
       "(array([1472.11777934, 1472.13821223, 1472.15864492, ..., 1557.89718798,\n",
       "        1557.9380561 , 1557.95849016]),\n",
       " array([258645.03, 258660.05, 258690.08, ..., 258929.86, 258884.66,\n",
       "        258865.6 ], dtype=float32))"
      ]
     },
     "execution_count": 6,
     "metadata": {},
     "output_type": "execute_result"
    }
   ],
   "source": [
    "lc.time, lc.flux"
   ]
  },
  {
   "cell_type": "code",
   "execution_count": 7,
   "metadata": {},
   "outputs": [
    {
     "data": {
      "image/png": "[encoded data removed]",
      "text/plain": [
       "<matplotlib.figure.Figure at 0xd2ba2eeac8>"
      ]
     },
     "metadata": {},
     "output_type": "display_data"
    }
   ],
   "source": [
    "lc.plot(linestyle='solid');"
   ]
  },
  {
   "cell_type": "code",
   "execution_count": 9,
   "metadata": {},
   "outputs": [
    {
     "name": "stdout",
     "output_type": "stream",
     "text": [
      "Requirement already up-to-date: lightkurve in c:\\users\\llagman\\anaconda3\\lib\\site-packages (1.0b5)\n",
      "Requirement not upgraded as not directly required: ipywidgets>=7.2.0 in c:\\users\\llagman\\anaconda3\\lib\\site-packages (from lightkurve) (7.2.1)\n",
      "Requirement not upgraded as not directly required: bs4 in c:\\users\\llagman\\anaconda3\\lib\\site-packages (from lightkurve) (0.0.1)\n",
      "Requirement not upgraded as not directly required: tqdm in c:\\users\\llagman\\anaconda3\\lib\\site-packages (from lightkurve) (4.23.3)\n",
      "Requirement not upgraded as not directly required: astroquery>=0.3.7 in c:\\users\\llagman\\anaconda3\\lib\\site-packages (from lightkurve) (0.3.7)\n",
      "Requirement not upgraded as not directly required: bokeh>=0.12.15 in c:\\users\\llagman\\anaconda3\\lib\\site-packages (from lightkurve) (0.12.15)\n",
      "Requirement not upgraded as not directly required: numpy>=1.11 in c:\\users\\llagman\\anaconda3\\lib\\site-packages (from lightkurve) (1.14.0)\n",
      "Requirement not upgraded as not directly required: requests in c:\\users\\llagman\\anaconda3\\lib\\site-packages (from lightkurve) (2.18.4)\n",
      "Requirement not upgraded as not directly required: scipy>=0.19.0 in c:\\users\\llagman\\anaconda3\\lib\\site-packages (from lightkurve) (1.0.0)\n",
      "Requirement not upgraded as not directly required: matplotlib>=1.5.3 in c:\\users\\llagman\\anaconda3\\lib\\site-packages (from lightkurve) (2.1.2)\n",
      "Requirement not upgraded as not directly required: astropy>=1.3 in c:\\users\\llagman\\anaconda3\\lib\\site-packages (from lightkurve) (2.0.3)\n",
      "Requirement not upgraded as not directly required: oktopus in c:\\users\\llagman\\anaconda3\\lib\\site-packages (from lightkurve) (0.1.1)\n",
      "Requirement not upgraded as not directly required: widgetsnbextension~=3.2.0 in c:\\users\\llagman\\anaconda3\\lib\\site-packages (from ipywidgets>=7.2.0->lightkurve) (3.2.1)\n",
      "Requirement not upgraded as not directly required: traitlets>=4.3.1 in c:\\users\\llagman\\anaconda3\\lib\\site-packages (from ipywidgets>=7.2.0->lightkurve) (4.3.2)\n",
      "Requirement not upgraded as not directly required: ipykernel>=4.5.1 in c:\\users\\llagman\\anaconda3\\lib\\site-packages (from ipywidgets>=7.2.0->lightkurve) (4.8.2)\n",
      "Requirement not upgraded as not directly required: ipython>=4.0.0; python_version >= \"3.3\" in c:\\users\\llagman\\anaconda3\\lib\\site-packages (from ipywidgets>=7.2.0->lightkurve) (6.2.1)\n",
      "Requirement not upgraded as not directly required: nbformat>=4.2.0 in c:\\users\\llagman\\anaconda3\\lib\\site-packages (from ipywidgets>=7.2.0->lightkurve) (4.4.0)\n",
      "Requirement not upgraded as not directly required: beautifulsoup4 in c:\\users\\llagman\\anaconda3\\lib\\site-packages (from bs4->lightkurve) (4.6.0)\n",
      "Requirement not upgraded as not directly required: keyring>=4.0 in c:\\users\\llagman\\anaconda3\\lib\\site-packages (from astroquery>=0.3.7->lightkurve) (12.0.1)\n",
      "Requirement not upgraded as not directly required: html5lib>=0.999 in c:\\users\\llagman\\anaconda3\\lib\\site-packages (from astroquery>=0.3.7->lightkurve) (0.9999999)\n",
      "Requirement not upgraded as not directly required: six>=1.5.2 in c:\\users\\llagman\\anaconda3\\lib\\site-packages (from bokeh>=0.12.15->lightkurve) (1.11.0)\n",
      "Requirement not upgraded as not directly required: tornado>=4.3 in c:\\users\\llagman\\anaconda3\\lib\\site-packages (from bokeh>=0.12.15->lightkurve) (4.5.3)\n",
      "Requirement not upgraded as not directly required: packaging>=16.8 in c:\\users\\llagman\\anaconda3\\lib\\site-packages (from bokeh>=0.12.15->lightkurve) (16.8)\n",
      "Requirement not upgraded as not directly required: Jinja2>=2.7 in c:\\users\\llagman\\anaconda3\\lib\\site-packages (from bokeh>=0.12.15->lightkurve) (2.10)\n",
      "Requirement not upgraded as not directly required: python-dateutil>=2.1 in c:\\users\\llagman\\anaconda3\\lib\\site-packages (from bokeh>=0.12.15->lightkurve) (2.6.1)\n",
      "Requirement not upgraded as not directly required: PyYAML>=3.10 in c:\\users\\llagman\\anaconda3\\lib\\site-packages (from bokeh>=0.12.15->lightkurve) (3.12)\n",
      "Requirement not upgraded as not directly required: chardet<3.1.0,>=3.0.2 in c:\\users\\llagman\\anaconda3\\lib\\site-packages (from requests->lightkurve) (3.0.4)\n",
      "Requirement not upgraded as not directly required: idna<2.7,>=2.5 in c:\\users\\llagman\\anaconda3\\lib\\site-packages (from requests->lightkurve) (2.6)\n",
      "Requirement not upgraded as not directly required: urllib3<1.23,>=1.21.1 in c:\\users\\llagman\\anaconda3\\lib\\site-packages (from requests->lightkurve) (1.22)\n",
      "Requirement not upgraded as not directly required: certifi>=2017.4.17 in c:\\users\\llagman\\anaconda3\\lib\\site-packages (from requests->lightkurve) (2018.4.16)\n",
      "Requirement not upgraded as not directly required: pytz in c:\\users\\llagman\\anaconda3\\lib\\site-packages (from matplotlib>=1.5.3->lightkurve) (2017.3)\n",
      "Requirement not upgraded as not directly required: cycler>=0.10 in c:\\users\\llagman\\anaconda3\\lib\\site-packages (from matplotlib>=1.5.3->lightkurve) (0.10.0)\n",
      "Requirement not upgraded as not directly required: pyparsing!=2.0.4,!=2.1.2,!=2.1.6,>=2.0.1 in c:\\users\\llagman\\anaconda3\\lib\\site-packages (from matplotlib>=1.5.3->lightkurve) (2.2.0)\n",
      "Requirement not upgraded as not directly required: pytest>=2.8 in c:\\users\\llagman\\anaconda3\\lib\\site-packages (from astropy>=1.3->lightkurve) (3.3.2)\n",
      "Requirement not upgraded as not directly required: autograd in c:\\users\\llagman\\anaconda3\\lib\\site-packages (from oktopus->lightkurve) (1.2)\n",
      "Requirement not upgraded as not directly required: notebook>=4.4.1 in c:\\users\\llagman\\anaconda3\\lib\\site-packages (from widgetsnbextension~=3.2.0->ipywidgets>=7.2.0->lightkurve) (5.4.0)\n",
      "Requirement not upgraded as not directly required: ipython_genutils in c:\\users\\llagman\\anaconda3\\lib\\site-packages (from traitlets>=4.3.1->ipywidgets>=7.2.0->lightkurve) (0.2.0)\n",
      "Requirement not upgraded as not directly required: decorator in c:\\users\\llagman\\anaconda3\\lib\\site-packages (from traitlets>=4.3.1->ipywidgets>=7.2.0->lightkurve) (4.2.1)\n",
      "Requirement not upgraded as not directly required: jupyter-client in c:\\users\\llagman\\anaconda3\\lib\\site-packages (from ipykernel>=4.5.1->ipywidgets>=7.2.0->lightkurve) (5.2.2)\n",
      "Requirement not upgraded as not directly required: setuptools>=18.5 in c:\\users\\llagman\\anaconda3\\lib\\site-packages (from ipython>=4.0.0; python_version >= \"3.3\"->ipywidgets>=7.2.0->lightkurve) (39.0.1)\n",
      "Requirement not upgraded as not directly required: jedi>=0.10 in c:\\users\\llagman\\anaconda3\\lib\\site-packages (from ipython>=4.0.0; python_version >= \"3.3\"->ipywidgets>=7.2.0->lightkurve) (0.11.1)\n",
      "Requirement not upgraded as not directly required: pickleshare in c:\\users\\llagman\\anaconda3\\lib\\site-packages (from ipython>=4.0.0; python_version >= \"3.3\"->ipywidgets>=7.2.0->lightkurve) (0.7.4)\n",
      "Requirement not upgraded as not directly required: simplegeneric>0.8 in c:\\users\\llagman\\anaconda3\\lib\\site-packages (from ipython>=4.0.0; python_version >= \"3.3\"->ipywidgets>=7.2.0->lightkurve) (0.8.1)\n",
      "Requirement not upgraded as not directly required: prompt_toolkit<2.0.0,>=1.0.4 in c:\\users\\llagman\\anaconda3\\lib\\site-packages (from ipython>=4.0.0; python_version >= \"3.3\"->ipywidgets>=7.2.0->lightkurve) (1.0.15)\n",
      "Requirement not upgraded as not directly required: pygments in c:\\users\\llagman\\anaconda3\\lib\\site-packages (from ipython>=4.0.0; python_version >= \"3.3\"->ipywidgets>=7.2.0->lightkurve) (2.2.0)\n",
      "Requirement not upgraded as not directly required: colorama in c:\\users\\llagman\\anaconda3\\lib\\site-packages (from ipython>=4.0.0; python_version >= \"3.3\"->ipywidgets>=7.2.0->lightkurve) (0.3.9)\n",
      "Requirement not upgraded as not directly required: jsonschema!=2.5.0,>=2.4 in c:\\users\\llagman\\anaconda3\\lib\\site-packages (from nbformat>=4.2.0->ipywidgets>=7.2.0->lightkurve) (2.6.0)\n",
      "Requirement not upgraded as not directly required: jupyter_core in c:\\users\\llagman\\anaconda3\\lib\\site-packages (from nbformat>=4.2.0->ipywidgets>=7.2.0->lightkurve) (4.4.0)\n",
      "Requirement not upgraded as not directly required: entrypoints in c:\\users\\llagman\\anaconda3\\lib\\site-packages (from keyring>=4.0->astroquery>=0.3.7->lightkurve) (0.2.3)\n",
      "Requirement not upgraded as not directly required: pywin32-ctypes!=0.1.0,!=0.1.1; sys_platform == \"win32\" in c:\\users\\llagman\\anaconda3\\lib\\site-packages (from keyring>=4.0->astroquery>=0.3.7->lightkurve) (0.1.2)\n"
     ]
    },
    {
     "name": "stdout",
     "output_type": "stream",
     "text": [
      "Requirement not upgraded as not directly required: MarkupSafe>=0.23 in c:\\users\\llagman\\anaconda3\\lib\\site-packages (from Jinja2>=2.7->bokeh>=0.12.15->lightkurve) (1.0)\n",
      "Requirement not upgraded as not directly required: py>=1.5.0 in c:\\users\\llagman\\anaconda3\\lib\\site-packages (from pytest>=2.8->astropy>=1.3->lightkurve) (1.5.2)\n",
      "Requirement not upgraded as not directly required: attrs>=17.2.0 in c:\\users\\llagman\\anaconda3\\lib\\site-packages (from pytest>=2.8->astropy>=1.3->lightkurve) (17.4.0)\n",
      "Requirement not upgraded as not directly required: pluggy<0.7,>=0.5 in c:\\users\\llagman\\anaconda3\\lib\\site-packages (from pytest>=2.8->astropy>=1.3->lightkurve) (0.6.0)\n",
      "Requirement not upgraded as not directly required: future>=0.15.2 in c:\\users\\llagman\\anaconda3\\lib\\site-packages (from autograd->oktopus->lightkurve) (0.16.0)\n",
      "Requirement not upgraded as not directly required: nbconvert in c:\\users\\llagman\\anaconda3\\lib\\site-packages (from notebook>=4.4.1->widgetsnbextension~=3.2.0->ipywidgets>=7.2.0->lightkurve) (5.3.1)\n",
      "Requirement not upgraded as not directly required: Send2Trash in c:\\users\\llagman\\anaconda3\\lib\\site-packages (from notebook>=4.4.1->widgetsnbextension~=3.2.0->ipywidgets>=7.2.0->lightkurve) (1.4.2)\n",
      "Requirement not upgraded as not directly required: terminado>=0.8.1 in c:\\users\\llagman\\anaconda3\\lib\\site-packages (from notebook>=4.4.1->widgetsnbextension~=3.2.0->ipywidgets>=7.2.0->lightkurve) (0.8.1)\n",
      "Requirement not upgraded as not directly required: pyzmq>=13 in c:\\users\\llagman\\anaconda3\\lib\\site-packages (from jupyter-client->ipykernel>=4.5.1->ipywidgets>=7.2.0->lightkurve) (16.0.3)\n",
      "Requirement not upgraded as not directly required: parso==0.1.* in c:\\users\\llagman\\anaconda3\\lib\\site-packages (from jedi>=0.10->ipython>=4.0.0; python_version >= \"3.3\"->ipywidgets>=7.2.0->lightkurve) (0.1.1)\n",
      "Requirement not upgraded as not directly required: wcwidth in c:\\users\\llagman\\anaconda3\\lib\\site-packages (from prompt_toolkit<2.0.0,>=1.0.4->ipython>=4.0.0; python_version >= \"3.3\"->ipywidgets>=7.2.0->lightkurve) (0.1.7)\n",
      "Requirement not upgraded as not directly required: mistune>=0.7.4 in c:\\users\\llagman\\anaconda3\\lib\\site-packages (from nbconvert->notebook>=4.4.1->widgetsnbextension~=3.2.0->ipywidgets>=7.2.0->lightkurve) (0.8.3)\n",
      "Requirement not upgraded as not directly required: bleach in c:\\users\\llagman\\anaconda3\\lib\\site-packages (from nbconvert->notebook>=4.4.1->widgetsnbextension~=3.2.0->ipywidgets>=7.2.0->lightkurve) (1.5.0)\n",
      "Requirement not upgraded as not directly required: pandocfilters>=1.4.1 in c:\\users\\llagman\\anaconda3\\lib\\site-packages (from nbconvert->notebook>=4.4.1->widgetsnbextension~=3.2.0->ipywidgets>=7.2.0->lightkurve) (1.4.2)\n",
      "Requirement not upgraded as not directly required: testpath in c:\\users\\llagman\\anaconda3\\lib\\site-packages (from nbconvert->notebook>=4.4.1->widgetsnbextension~=3.2.0->ipywidgets>=7.2.0->lightkurve) (0.3.1)\n"
     ]
    }
   ],
   "source": [
    "!pip install lightkurve --upgrade"
   ]
  },
  {
   "cell_type": "code",
   "execution_count": null,
   "metadata": {},
   "outputs": [],
   "source": []
  }
 ],
 "metadata": {
  "kernelspec": {
   "display_name": "Python 3",
   "language": "python",
   "name": "python3"
  },
  "language_info": {
   "codemirror_mode": {
    "name": "ipython",
    "version": 3
   },
   "file_extension": ".py",
   "mimetype": "text/x-python",
   "name": "python",
   "nbconvert_exporter": "python",
   "pygments_lexer": "ipython3",
   "version": "3.6.4"
  }
 },
 "nbformat": 4,
 "nbformat_minor": 2
}
